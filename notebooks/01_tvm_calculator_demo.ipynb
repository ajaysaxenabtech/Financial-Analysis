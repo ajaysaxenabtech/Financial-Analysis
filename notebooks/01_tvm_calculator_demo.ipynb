{
 "cells": [
  {
   "cell_type": "code",
   "execution_count": 13,
   "id": "3916a1ac",
   "metadata": {},
   "outputs": [],
   "source": [
    "import sys\n",
    "import os\n",
    "sys.path.append(f\"{os.path.dirname(os.getcwd())}\")\n",
    "from financial_analysis.quant_methods.tvm_calculator import TVMCalculator"
   ]
  },
  {
   "cell_type": "code",
   "execution_count": 14,
   "id": "9501c850",
   "metadata": {},
   "outputs": [
    {
     "name": "stdout",
     "output_type": "stream",
     "text": [
      "Future Value (Lump sum, 8% for 5 years): 1469.33\n"
     ]
    }
   ],
   "source": [
    "tvm = TVMCalculator(pv=1000, r=0.08, n=5)\n",
    "fv = tvm.calculate_fv()\n",
    "print(f\"Future Value (Lump sum, 8% for 5 years): {fv:.2f}\")\n"
   ]
  },
  {
   "cell_type": "code",
   "execution_count": 15,
   "id": "860d671d",
   "metadata": {},
   "outputs": [
    {
     "name": "stdout",
     "output_type": "stream",
     "text": [
      "Present Value of Annuity: 3511.79\n"
     ]
    }
   ],
   "source": [
    "tvm2 = TVMCalculator(r=0.07, n=10, pmt=500)\n",
    "pv_annuity = tvm2.calculate_pv()\n",
    "print(f\"Present Value of Annuity: {pv_annuity:.2f}\")\n"
   ]
  },
  {
   "cell_type": "code",
   "execution_count": 16,
   "id": "0d7d175d",
   "metadata": {},
   "outputs": [
    {
     "name": "stdout",
     "output_type": "stream",
     "text": [
      "Number of periods to double: 10.24 years\n"
     ]
    }
   ],
   "source": [
    "tvm3 = TVMCalculator(pv=1000, fv=2000, r=0.07)\n",
    "n = tvm3.calculate_n()\n",
    "print(f\"Number of periods to double: {n:.2f} years\")\n"
   ]
  },
  {
   "cell_type": "code",
   "execution_count": 18,
   "id": "1015ff58",
   "metadata": {},
   "outputs": [
    {
     "data": {
      "text/html": [
       "<div>\n",
       "<style scoped>\n",
       "    .dataframe tbody tr th:only-of-type {\n",
       "        vertical-align: middle;\n",
       "    }\n",
       "\n",
       "    .dataframe tbody tr th {\n",
       "        vertical-align: top;\n",
       "    }\n",
       "\n",
       "    .dataframe thead th {\n",
       "        text-align: right;\n",
       "    }\n",
       "</style>\n",
       "<table border=\"1\" class=\"dataframe\">\n",
       "  <thead>\n",
       "    <tr style=\"text-align: right;\">\n",
       "      <th></th>\n",
       "      <th>Scenario</th>\n",
       "      <th>Value</th>\n",
       "    </tr>\n",
       "  </thead>\n",
       "  <tbody>\n",
       "    <tr>\n",
       "      <th>0</th>\n",
       "      <td>FV of 1000 @8% for 5yrs</td>\n",
       "      <td>1469.328077</td>\n",
       "    </tr>\n",
       "    <tr>\n",
       "      <th>1</th>\n",
       "      <td>PV of 10yr annuity @7%</td>\n",
       "      <td>3511.790770</td>\n",
       "    </tr>\n",
       "    <tr>\n",
       "      <th>2</th>\n",
       "      <td>Years to double @7%</td>\n",
       "      <td>10.244768</td>\n",
       "    </tr>\n",
       "    <tr>\n",
       "      <th>3</th>\n",
       "      <td>Rate to double in 10yrs</td>\n",
       "      <td>0.070000</td>\n",
       "    </tr>\n",
       "  </tbody>\n",
       "</table>\n",
       "</div>"
      ],
      "text/plain": [
       "                  Scenario        Value\n",
       "0  FV of 1000 @8% for 5yrs  1469.328077\n",
       "1   PV of 10yr annuity @7%  3511.790770\n",
       "2      Years to double @7%    10.244768\n",
       "3  Rate to double in 10yrs     0.070000"
      ]
     },
     "execution_count": 18,
     "metadata": {},
     "output_type": "execute_result"
    }
   ],
   "source": [
    "import pandas as pd\n",
    "\n",
    "r=0.07\n",
    "data = {\n",
    "    \"Scenario\": [\"FV of 1000 @8% for 5yrs\", \"PV of 10yr annuity @7%\", \"Years to double @7%\", \"Rate to double in 10yrs\"],\n",
    "    \"Value\": [fv, pv_annuity, n, r]\n",
    "}\n",
    "\n",
    "pd.DataFrame(data)\n"
   ]
  },
  {
   "cell_type": "code",
   "execution_count": null,
   "id": "b7f0bc9e",
   "metadata": {},
   "outputs": [],
   "source": []
  }
 ],
 "metadata": {
  "kernelspec": {
   "display_name": "mktdata_py310",
   "language": "python",
   "name": "python3"
  },
  "language_info": {
   "codemirror_mode": {
    "name": "ipython",
    "version": 3
   },
   "file_extension": ".py",
   "mimetype": "text/x-python",
   "name": "python",
   "nbconvert_exporter": "python",
   "pygments_lexer": "ipython3",
   "version": "3.10.15"
  }
 },
 "nbformat": 4,
 "nbformat_minor": 5
}
